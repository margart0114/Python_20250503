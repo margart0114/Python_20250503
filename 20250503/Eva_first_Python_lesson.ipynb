{
  "nbformat": 4,
  "nbformat_minor": 0,
  "metadata": {
    "colab": {
      "provenance": [],
      "authorship_tag": "ABX9TyP6fTJ7PyWmwxmxrPwWrU5z",
      "include_colab_link": true
    },
    "kernelspec": {
      "name": "python3",
      "display_name": "Python 3"
    },
    "language_info": {
      "name": "python"
    }
  },
  "cells": [
    {
      "cell_type": "markdown",
      "metadata": {
        "id": "view-in-github",
        "colab_type": "text"
      },
      "source": [
        "<a href=\"https://colab.research.google.com/github/margart0114/Python_20250503/blob/main/20250503/Eva_first_Python_lesson.ipynb\" target=\"_parent\"><img src=\"https://colab.research.google.com/assets/colab-badge.svg\" alt=\"Open In Colab\"/></a>"
      ]
    },
    {
      "cell_type": "markdown",
      "source": [
        "# 大標1\n",
        "## 大標2\n",
        "### 大標3\n",
        "#### 大標4\n",
        "##### 大標5\n",
        "###### 大標6\n"
      ],
      "metadata": {
        "id": "nuVpcI35LXWK"
      }
    },
    {
      "cell_type": "code",
      "source": [
        "print(\"Hello! python!\")"
      ],
      "metadata": {
        "colab": {
          "base_uri": "https://localhost:8080/"
        },
        "id": "VXfBjkNSC0QY",
        "outputId": "5f886d17-84a0-44e9-b226-d3dcc79d3d3d"
      },
      "execution_count": null,
      "outputs": [
        {
          "output_type": "stream",
          "name": "stdout",
          "text": [
            "Hello! python!\n"
          ]
        }
      ]
    },
    {
      "cell_type": "code",
      "source": [
        "99**99"
      ],
      "metadata": {
        "colab": {
          "base_uri": "https://localhost:8080/"
        },
        "id": "G4aOmYG8Qj8o",
        "outputId": "e3e679b4-75a2-4f33-f9d5-54beb9aa1da2"
      },
      "execution_count": null,
      "outputs": [
        {
          "output_type": "execute_result",
          "data": {
            "text/plain": [
              "369729637649726772657187905628805440595668764281741102430259972423552570455277523421410650010128232727940978889548326540119429996769494359451621570193644014418071060667659301384999779999159200499899"
            ]
          },
          "metadata": {},
          "execution_count": 1
        }
      ]
    },
    {
      "cell_type": "code",
      "source": [
        "print(5 + 5)\n",
        "print(90 - 10)\n",
        "print(4 * 7)\n",
        "print(7 /2)\n",
        "print(7 // 2)\n",
        "print(7 % 3)\n",
        "print(3 ** 4)"
      ],
      "metadata": {
        "id": "qU4gmfTXRJtk",
        "outputId": "b3e69f40-a6cb-4854-f7f3-86204a122f0c",
        "colab": {
          "base_uri": "https://localhost:8080/"
        }
      },
      "execution_count": null,
      "outputs": [
        {
          "output_type": "stream",
          "name": "stdout",
          "text": [
            "10\n",
            "80\n",
            "28\n",
            "3.5\n",
            "3\n",
            "1\n",
            "81\n"
          ]
        }
      ]
    },
    {
      "cell_type": "code",
      "source": [
        "2+3*4"
      ],
      "metadata": {
        "id": "FKPNrGARq-ib",
        "outputId": "dfe15226-36e3-474c-e359-af3530bc0094",
        "colab": {
          "base_uri": "https://localhost:8080/"
        }
      },
      "execution_count": 1,
      "outputs": [
        {
          "output_type": "execute_result",
          "data": {
            "text/plain": [
              "14"
            ]
          },
          "metadata": {},
          "execution_count": 1
        }
      ]
    },
    {
      "cell_type": "code",
      "source": [
        "(2+3)*4"
      ],
      "metadata": {
        "id": "oh3oTeEPrzhd",
        "outputId": "48c6f8f1-af92-4bf6-ebcc-cf5bba0ee106",
        "colab": {
          "base_uri": "https://localhost:8080/"
        }
      },
      "execution_count": 2,
      "outputs": [
        {
          "output_type": "execute_result",
          "data": {
            "text/plain": [
              "20"
            ]
          },
          "metadata": {},
          "execution_count": 2
        }
      ]
    },
    {
      "cell_type": "code",
      "source": [
        "2*(1+2)**2-2**2*2"
      ],
      "metadata": {
        "id": "i1-jvqBlr37k",
        "outputId": "bd9efe31-1fb8-448e-b1db-bc4412e16d06",
        "colab": {
          "base_uri": "https://localhost:8080/"
        }
      },
      "execution_count": 5,
      "outputs": [
        {
          "output_type": "execute_result",
          "data": {
            "text/plain": [
              "10"
            ]
          },
          "metadata": {},
          "execution_count": 5
        }
      ]
    },
    {
      "cell_type": "markdown",
      "source": [
        "- 會做6件事\n",
        "- 運費式->會傳出值\n",
        "\n",
        "**運算子的優先順序\n",
        "- ()\n",
        "- **\n",
        "- * / % //\n",
        "- + -"
      ],
      "metadata": {
        "id": "uHdAMrkAszal"
      }
    }
  ]
}