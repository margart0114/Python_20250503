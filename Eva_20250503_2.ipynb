{
  "nbformat": 4,
  "nbformat_minor": 0,
  "metadata": {
    "colab": {
      "provenance": [],
      "authorship_tag": "ABX9TyMmtba9NhiVdEflJWJR4niZ",
      "include_colab_link": true
    },
    "kernelspec": {
      "name": "python3",
      "display_name": "Python 3"
    },
    "language_info": {
      "name": "python"
    }
  },
  "cells": [
    {
      "cell_type": "markdown",
      "metadata": {
        "id": "view-in-github",
        "colab_type": "text"
      },
      "source": [
        "<a href=\"https://colab.research.google.com/github/margart0114/Python_20250503/blob/main/Eva_20250503_2.ipynb\" target=\"_parent\"><img src=\"https://colab.research.google.com/assets/colab-badge.svg\" alt=\"Open In Colab\"/></a>"
      ]
    },
    {
      "cell_type": "code",
      "execution_count": null,
      "metadata": {
        "colab": {
          "base_uri": "https://localhost:8080/"
        },
        "id": "b_QFzuypuJTw",
        "outputId": "48e5b4a1-cab9-4269-cb8a-101d00e98e3a"
      },
      "outputs": [
        {
          "output_type": "execute_result",
          "data": {
            "text/plain": [
              "14"
            ]
          },
          "metadata": {},
          "execution_count": 1
        }
      ],
      "source": [
        "2+3*4"
      ]
    },
    {
      "cell_type": "code",
      "source": [
        "(2+3)*4"
      ],
      "metadata": {
        "colab": {
          "base_uri": "https://localhost:8080/"
        },
        "id": "cXA7dp1PuW4y",
        "outputId": "07d05934-defe-4929-da43-d49d13d421ce"
      },
      "execution_count": null,
      "outputs": [
        {
          "output_type": "execute_result",
          "data": {
            "text/plain": [
              "20"
            ]
          },
          "metadata": {},
          "execution_count": 2
        }
      ]
    },
    {
      "cell_type": "markdown",
      "source": [
        "- 會做6件事\n",
        "- 運算式->會傳出值\n",
        "\n",
        "**運算子的優先順序**\n",
        "- ()\n",
        "- \\**\n",
        "- \\* / % //\n",
        "- \\+ -\n",
        "- ="
      ],
      "metadata": {
        "id": "-59ul72F0GPK"
      }
    },
    {
      "cell_type": "code",
      "source": [
        "2*(1+2)**2-2**2*2"
      ],
      "metadata": {
        "colab": {
          "base_uri": "https://localhost:8080/"
        },
        "id": "siEnKYmNusjz",
        "outputId": "79b1c969-08e6-4639-b6e5-86edf54f45ab"
      },
      "execution_count": null,
      "outputs": [
        {
          "output_type": "execute_result",
          "data": {
            "text/plain": [
              "10"
            ]
          },
          "metadata": {},
          "execution_count": 4
        }
      ]
    },
    {
      "cell_type": "code",
      "source": [],
      "metadata": {
        "id": "0wHjmvf40j2T"
      },
      "execution_count": null,
      "outputs": []
    },
    {
      "cell_type": "markdown",
      "source": [
        "### 敘述式(statement)"
      ],
      "metadata": {
        "id": "KEuCfG_TzZFX"
      }
    },
    {
      "cell_type": "code",
      "source": [
        "n = 2*(1+2)**2-2**2*2\n",
        "\n",
        "n = n*10\n",
        "\n",
        "n"
      ],
      "metadata": {
        "id": "JQvA_i2rxDcQ"
      },
      "execution_count": null,
      "outputs": []
    },
    {
      "cell_type": "markdown",
      "source": [
        "### 複合指定運算子"
      ],
      "metadata": {
        "id": "PcVyR8871yHN"
      }
    },
    {
      "cell_type": "code",
      "source": [
        "n = 2*(1+2)**2-2**2*2\n",
        "\n",
        "n *=10\n",
        "\n",
        "n"
      ],
      "metadata": {
        "colab": {
          "base_uri": "https://localhost:8080/"
        },
        "id": "_IrHr79M3QXb",
        "outputId": "227a7823-030d-4b0d-bbd7-e348325cd6cc"
      },
      "execution_count": 12,
      "outputs": [
        {
          "output_type": "execute_result",
          "data": {
            "text/plain": [
              "100"
            ]
          },
          "metadata": {},
          "execution_count": 12
        }
      ]
    },
    {
      "cell_type": "markdown",
      "source": [
        "###input()使用"
      ],
      "metadata": {
        "id": "CIgmL7577yUr"
      }
    },
    {
      "cell_type": "code",
      "source": [
        "name = input(\"請輸入您的名字:\")\n",
        "print(\"您的名字:\",name)"
      ],
      "metadata": {
        "colab": {
          "base_uri": "https://localhost:8080/"
        },
        "id": "tWzQJILu8Bjr",
        "outputId": "028ab4ce-5f3a-42d9-83a8-599343e0c3f0"
      },
      "execution_count": 19,
      "outputs": [
        {
          "output_type": "stream",
          "name": "stdout",
          "text": [
            "請輸入您的名字:eva\n",
            "您的名字: eva\n"
          ]
        }
      ]
    },
    {
      "cell_type": "markdown",
      "source": [
        "### Python是動態型別"
      ],
      "metadata": {
        "id": "a5N6D2MtB5Zo"
      }
    },
    {
      "cell_type": "code",
      "source": [
        "name = input(\"請輸入您的名字:\")\n",
        "type(name)\n",
        "name=100\n",
        "type(name)\n",
        "name=100.0\n",
        "type(name)"
      ],
      "metadata": {
        "id": "ORipZXZvCCE6",
        "outputId": "d03e55bb-78bc-47da-9b80-ca18c3f1a3df",
        "colab": {
          "base_uri": "https://localhost:8080/"
        }
      },
      "execution_count": 25,
      "outputs": [
        {
          "name": "stdout",
          "output_type": "stream",
          "text": [
            "請輸入您的名字:eva\n"
          ]
        },
        {
          "output_type": "execute_result",
          "data": {
            "text/plain": [
              "float"
            ]
          },
          "metadata": {},
          "execution_count": 25
        }
      ]
    }
  ]
}