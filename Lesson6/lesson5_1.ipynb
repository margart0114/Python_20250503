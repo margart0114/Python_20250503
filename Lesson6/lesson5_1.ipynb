{
 "cells": [
  {
   "cell_type": "markdown",
   "id": "d180dbaf",
   "metadata": {},
   "source": [
    "# 結構化專案程式碼\n",
    "- function\n"
   ]
  },
  {
   "cell_type": "code",
   "execution_count": 6,
   "id": "a1631679",
   "metadata": {},
   "outputs": [
    {
     "name": "stdout",
     "output_type": "stream",
     "text": [
      "Hello! Function!\n"
     ]
    }
   ],
   "source": [
    "print(\"Hello! Function!\")"
   ]
  },
  {
   "cell_type": "code",
   "execution_count": 7,
   "id": "fa4fc48d",
   "metadata": {},
   "outputs": [
    {
     "name": "stdout",
     "output_type": "stream",
     "text": [
      "Hello! Second\n"
     ]
    }
   ],
   "source": [
    "print(\"Hello! Second\")"
   ]
  }
 ],
 "metadata": {
  "kernelspec": {
   "display_name": "chihlee1",
   "language": "python",
   "name": "python3"
  },
  "language_info": {
   "codemirror_mode": {
    "name": "ipython",
    "version": 3
   },
   "file_extension": ".py",
   "mimetype": "text/x-python",
   "name": "python",
   "nbconvert_exporter": "python",
   "pygments_lexer": "ipython3",
   "version": "3.10.16"
  }
 },
 "nbformat": 4,
 "nbformat_minor": 5
}
