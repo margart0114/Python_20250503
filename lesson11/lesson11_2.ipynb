{
 "cells": [
  {
   "cell_type": "code",
   "execution_count": 10,
   "id": "cfaa1666",
   "metadata": {},
   "outputs": [
    {
     "data": {
      "text/plain": [
       "array([69, 96, 92])"
      ]
     },
     "execution_count": 10,
     "metadata": {},
     "output_type": "execute_result"
    }
   ],
   "source": [
    "import numpy as np\n",
    "from numpy import ndarray\n",
    "\n",
    "students:ndarray = np.array ([[79,93,69,96,92],\n",
    "                            [66,76,69,85,87]])\n",
    "\n",
    "#利用索引,slicing\n",
    "students [0] #取得第1位學生資料 (後面沒有用第二維，就表示是取得第1位學生全部的資料)\n",
    "students [1] #取得第2位學生資料\n",
    "students [1,:3] #取得第2位學生資料，前3科分數\n",
    "students [0,-3:] #取得第1位學生資料，後3科分數"
   ]
  }
 ],
 "metadata": {
  "kernelspec": {
   "display_name": "chihlee1",
   "language": "python",
   "name": "python3"
  },
  "language_info": {
   "codemirror_mode": {
    "name": "ipython",
    "version": 3
   },
   "file_extension": ".py",
   "mimetype": "text/x-python",
   "name": "python",
   "nbconvert_exporter": "python",
   "pygments_lexer": "ipython3",
   "version": "3.10.17"
  }
 },
 "nbformat": 4,
 "nbformat_minor": 5
}
