{
 "cells": [
  {
   "cell_type": "code",
   "execution_count": 7,
   "id": "57e44118",
   "metadata": {},
   "outputs": [
    {
     "name": "stdout",
     "output_type": "stream",
     "text": [
      "Collecting yfinance\n",
      "  Using cached yfinance-0.2.64-py2.py3-none-any.whl.metadata (5.8 kB)\n",
      "Requirement already satisfied: pandas>=1.3.0 in c:\\users\\eva\\miniconda3\\envs\\chihlee1\\lib\\site-packages (from yfinance) (2.3.0)\n",
      "Requirement already satisfied: numpy>=1.16.5 in c:\\users\\eva\\miniconda3\\envs\\chihlee1\\lib\\site-packages (from yfinance) (2.2.6)\n",
      "Requirement already satisfied: requests>=2.31 in c:\\users\\eva\\miniconda3\\envs\\chihlee1\\lib\\site-packages (from yfinance) (2.32.4)\n",
      "Collecting multitasking>=0.0.7 (from yfinance)\n",
      "  Using cached multitasking-0.0.11-py3-none-any.whl.metadata (5.5 kB)\n",
      "Requirement already satisfied: platformdirs>=2.0.0 in c:\\users\\eva\\miniconda3\\envs\\chihlee1\\lib\\site-packages (from yfinance) (4.3.8)\n",
      "Requirement already satisfied: pytz>=2022.5 in c:\\users\\eva\\miniconda3\\envs\\chihlee1\\lib\\site-packages (from yfinance) (2025.2)\n",
      "Collecting frozendict>=2.3.4 (from yfinance)\n",
      "  Downloading frozendict-2.4.6-cp310-cp310-win_amd64.whl.metadata (23 kB)\n",
      "Collecting peewee>=3.16.2 (from yfinance)\n",
      "  Using cached peewee-3.18.1.tar.gz (3.0 MB)\n",
      "  Installing build dependencies: started\n",
      "  Installing build dependencies: finished with status 'done'\n",
      "  Getting requirements to build wheel: started\n",
      "  Getting requirements to build wheel: finished with status 'done'\n",
      "  Preparing metadata (pyproject.toml): started\n",
      "  Preparing metadata (pyproject.toml): finished with status 'done'\n",
      "Collecting beautifulsoup4>=4.11.1 (from yfinance)\n",
      "  Using cached beautifulsoup4-4.13.4-py3-none-any.whl.metadata (3.8 kB)\n",
      "Collecting curl_cffi>=0.7 (from yfinance)\n",
      "  Using cached curl_cffi-0.11.4-cp39-abi3-win_amd64.whl.metadata (14 kB)\n",
      "Requirement already satisfied: protobuf>=3.19.0 in c:\\users\\eva\\miniconda3\\envs\\chihlee1\\lib\\site-packages (from yfinance) (6.31.1)\n",
      "Collecting websockets>=13.0 (from yfinance)\n",
      "  Downloading websockets-15.0.1-cp310-cp310-win_amd64.whl.metadata (7.0 kB)\n",
      "Collecting soupsieve>1.2 (from beautifulsoup4>=4.11.1->yfinance)\n",
      "  Using cached soupsieve-2.7-py3-none-any.whl.metadata (4.6 kB)\n",
      "Requirement already satisfied: typing-extensions>=4.0.0 in c:\\users\\eva\\miniconda3\\envs\\chihlee1\\lib\\site-packages (from beautifulsoup4>=4.11.1->yfinance) (4.13.2)\n",
      "Collecting cffi>=1.12.0 (from curl_cffi>=0.7->yfinance)\n",
      "  Downloading cffi-1.17.1-cp310-cp310-win_amd64.whl.metadata (1.6 kB)\n",
      "Requirement already satisfied: certifi>=2024.2.2 in c:\\users\\eva\\miniconda3\\envs\\chihlee1\\lib\\site-packages (from curl_cffi>=0.7->yfinance) (2025.6.15)\n",
      "Collecting pycparser (from cffi>=1.12.0->curl_cffi>=0.7->yfinance)\n",
      "  Downloading pycparser-2.22-py3-none-any.whl.metadata (943 bytes)\n",
      "Requirement already satisfied: python-dateutil>=2.8.2 in c:\\users\\eva\\miniconda3\\envs\\chihlee1\\lib\\site-packages (from pandas>=1.3.0->yfinance) (2.9.0.post0)\n",
      "Requirement already satisfied: tzdata>=2022.7 in c:\\users\\eva\\miniconda3\\envs\\chihlee1\\lib\\site-packages (from pandas>=1.3.0->yfinance) (2025.2)\n",
      "Requirement already satisfied: six>=1.5 in c:\\users\\eva\\miniconda3\\envs\\chihlee1\\lib\\site-packages (from python-dateutil>=2.8.2->pandas>=1.3.0->yfinance) (1.17.0)\n",
      "Requirement already satisfied: charset_normalizer<4,>=2 in c:\\users\\eva\\miniconda3\\envs\\chihlee1\\lib\\site-packages (from requests>=2.31->yfinance) (3.4.2)\n",
      "Requirement already satisfied: idna<4,>=2.5 in c:\\users\\eva\\miniconda3\\envs\\chihlee1\\lib\\site-packages (from requests>=2.31->yfinance) (3.10)\n",
      "Requirement already satisfied: urllib3<3,>=1.21.1 in c:\\users\\eva\\miniconda3\\envs\\chihlee1\\lib\\site-packages (from requests>=2.31->yfinance) (2.5.0)\n",
      "Using cached yfinance-0.2.64-py2.py3-none-any.whl (119 kB)\n",
      "Using cached beautifulsoup4-4.13.4-py3-none-any.whl (187 kB)\n",
      "Using cached curl_cffi-0.11.4-cp39-abi3-win_amd64.whl (1.6 MB)\n",
      "Downloading cffi-1.17.1-cp310-cp310-win_amd64.whl (181 kB)\n",
      "Downloading frozendict-2.4.6-cp310-cp310-win_amd64.whl (37 kB)\n",
      "Using cached multitasking-0.0.11-py3-none-any.whl (8.5 kB)\n",
      "Using cached soupsieve-2.7-py3-none-any.whl (36 kB)\n",
      "Downloading websockets-15.0.1-cp310-cp310-win_amd64.whl (176 kB)\n",
      "Downloading pycparser-2.22-py3-none-any.whl (117 kB)\n",
      "Building wheels for collected packages: peewee\n",
      "  Building wheel for peewee (pyproject.toml): started\n",
      "  Building wheel for peewee (pyproject.toml): finished with status 'done'\n",
      "  Created wheel for peewee: filename=peewee-3.18.1-py3-none-any.whl size=139097 sha256=7c562d71c13799715c2379a1a410ce0df13011c8b6ed060abaeb3c548d5ade5f\n",
      "  Stored in directory: c:\\users\\eva\\appdata\\local\\pip\\cache\\wheels\\8d\\c2\\af\\d591c26196f80ecdedb79664b51642ff1cf49af64d5cd69999\n",
      "Successfully built peewee\n",
      "Installing collected packages: peewee, multitasking, websockets, soupsieve, pycparser, frozendict, cffi, beautifulsoup4, curl_cffi, yfinance\n",
      "\n",
      "   ----------------------------------------  0/10 [peewee]\n",
      "   ----------------------------------------  0/10 [peewee]\n",
      "   -------- -------------------------------  2/10 [websockets]\n",
      "   -------- -------------------------------  2/10 [websockets]\n",
      "   -------- -------------------------------  2/10 [websockets]\n",
      "   ---------------- -----------------------  4/10 [pycparser]\n",
      "   ---------------- -----------------------  4/10 [pycparser]\n",
      "   ---------------- -----------------------  4/10 [pycparser]\n",
      "   ------------------------ ---------------  6/10 [cffi]\n",
      "   ------------------------ ---------------  6/10 [cffi]\n",
      "   ---------------------------- -----------  7/10 [beautifulsoup4]\n",
      "   ---------------------------- -----------  7/10 [beautifulsoup4]\n",
      "   -------------------------------- -------  8/10 [curl_cffi]\n",
      "   ------------------------------------ ---  9/10 [yfinance]\n",
      "   ------------------------------------ ---  9/10 [yfinance]\n",
      "   ---------------------------------------- 10/10 [yfinance]\n",
      "\n",
      "Successfully installed beautifulsoup4-4.13.4 cffi-1.17.1 curl_cffi-0.11.4 frozendict-2.4.6 multitasking-0.0.11 peewee-3.18.1 pycparser-2.22 soupsieve-2.7 websockets-15.0.1 yfinance-0.2.64\n"
     ]
    }
   ],
   "source": [
    "!pip install yfinance"
   ]
  },
  {
   "cell_type": "code",
   "execution_count": 18,
   "id": "f7532c8b",
   "metadata": {},
   "outputs": [
    {
     "name": "stderr",
     "output_type": "stream",
     "text": [
      "[*********************100%***********************]  1 of 1 completed\n",
      "[*********************100%***********************]  1 of 1 completed\n",
      "[*********************100%***********************]  1 of 1 completed\n",
      "[*********************100%***********************]  1 of 1 completed\n"
     ]
    }
   ],
   "source": [
    "import yfinance as yf\n",
    "tw2330 = yf.download('2330.TW',start='2024-01-01',end='2024-06-01',auto_adjust=True)\n",
    "tw2303 = yf.download('2303.TW',start='2024-01-01',end='2024-06-01',auto_adjust=True)\n",
    "tw2454 = yf.download('2454.TW',start='2024-01-01',end='2024-06-01',auto_adjust=True)\n",
    "tw2317 = yf.download('2317.TW',start='2024-01-01',end='2024-06-01',auto_adjust=True)"
   ]
  },
  {
   "cell_type": "code",
   "execution_count": 22,
   "id": "5381b069",
   "metadata": {},
   "outputs": [
    {
     "name": "stdout",
     "output_type": "stream",
     "text": [
      "<class 'pandas.core.frame.DataFrame'>\n",
      "DatetimeIndex: 98 entries, 2024-01-02 to 2024-05-31\n",
      "Data columns (total 5 columns):\n",
      " #   Column             Non-Null Count  Dtype  \n",
      "---  ------             --------------  -----  \n",
      " 0   (Close, 2330.TW)   98 non-null     float64\n",
      " 1   (High, 2330.TW)    98 non-null     float64\n",
      " 2   (Low, 2330.TW)     98 non-null     float64\n",
      " 3   (Open, 2330.TW)    98 non-null     float64\n",
      " 4   (Volume, 2330.TW)  98 non-null     int64  \n",
      "dtypes: float64(4), int64(1)\n",
      "memory usage: 4.6 KB\n"
     ]
    }
   ],
   "source": [
    "tw2330.info()"
   ]
  },
  {
   "cell_type": "code",
   "execution_count": 26,
   "id": "2419922b",
   "metadata": {},
   "outputs": [
    {
     "data": {
      "text/plain": [
       "Date\n",
       "2024-01-02    102.375000\n",
       "2024-01-03    101.887505\n",
       "2024-01-04    101.400002\n",
       "2024-01-05    101.400002\n",
       "2024-01-08     98.962502\n",
       "                 ...    \n",
       "2024-05-27    180.375000\n",
       "2024-05-28    180.862503\n",
       "2024-05-29    175.987503\n",
       "2024-05-30    172.087509\n",
       "2024-05-31    167.699997\n",
       "Name: (Close, 2317.TW), Length: 98, dtype: float64"
      ]
     },
     "execution_count": 26,
     "metadata": {},
     "output_type": "execute_result"
    }
   ],
   "source": [
    "tw2330[\"Close\"][\"2330.TW\"]\n",
    "tw2330[\"Close\",\"2330.TW\"]\n",
    "tw2303[\"Close\",\"2303.TW\"]\n",
    "tw2454[\"Close\",\"2454.TW\"]\n",
    "tw2317[\"Close\",\"2317.TW\"]"
   ]
  }
 ],
 "metadata": {
  "kernelspec": {
   "display_name": "chihlee1",
   "language": "python",
   "name": "python3"
  },
  "language_info": {
   "codemirror_mode": {
    "name": "ipython",
    "version": 3
   },
   "file_extension": ".py",
   "mimetype": "text/x-python",
   "name": "python",
   "nbconvert_exporter": "python",
   "pygments_lexer": "ipython3",
   "version": "3.10.17"
  }
 },
 "nbformat": 4,
 "nbformat_minor": 5
}
