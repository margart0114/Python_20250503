{
 "cells": [
  {
   "cell_type": "code",
   "execution_count": null,
   "id": "2970aacc",
   "metadata": {},
   "outputs": [],
   "source": [
    "import yfinance as yf\n",
    "tw2330 = yf.download('2330.TW',start='2024-01-01',end='2024-06-01',auto_adjust=True)\n",
    "tw2303 = yf.download('2303.TW',start='2024-01-01',end='2024-06-01',auto_adjust=True)\n",
    "tw2454 = yf.download('2454.TW',start='2024-01-01',end='2024-06-01',auto_adjust=True)\n",
    "tw2317 = yf.download('2317.TW',start='2024-01-01',end='2024-06-01',auto_adjust=True)"
   ]
  }
 ],
 "metadata": {
  "kernelspec": {
   "display_name": "chihlee1",
   "language": "python",
   "name": "python3"
  },
  "language_info": {
   "name": "python",
   "version": "3.10.17"
  }
 },
 "nbformat": 4,
 "nbformat_minor": 5
}
