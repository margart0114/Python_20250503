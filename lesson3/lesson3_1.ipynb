{
  "cells": [
    {
      "cell_type": "markdown",
      "metadata": {
        "colab_type": "text",
        "id": "view-in-github"
      },
      "source": [
        "<a href=\"https://colab.research.google.com/github/margart0114/Python_20250503/blob/main/lesson3/lesson3_1.ipynb\" target=\"_parent\"><img src=\"https://colab.research.google.com/assets/colab-badge.svg\" alt=\"Open In Colab\"/></a>"
      ]
    },
    {
      "cell_type": "markdown",
      "metadata": {
        "id": "xRRoqMUA0d51"
      },
      "source": [
        "# python判斷\n"
      ]
    },
    {
      "cell_type": "markdown",
      "metadata": {
        "id": "Vlp7O1Mb0ozG"
      },
      "source": [
        "# python的條件式\n",
        "## python的比較運算子\n",
        "Python 的比較運算子用來比較兩個值，並回傳布林值（True 或 False）。Python 支援以下主要的比較運算子：\n",
        "\n",
        "- `<` ：小於\n",
        "- `<=` ：小於等於\n",
        "- `>` ：大於\n",
        "- `>=` ：大於等於\n",
        "- `==` ：等於\n",
        "- `!=` ：不等於\n",
        "- `is` ：判斷兩個物件是否為同一個物件（物件識別）\n",
        "- `is not` ：判斷兩個物件是否不是同一個物件"
      ]
    },
    {
      "cell_type": "code",
      "execution_count": null,
      "metadata": {
        "colab": {
          "base_uri": "https://localhost:8080/"
        },
        "id": "lgtpYLFk24CI",
        "outputId": "9458526f-f643-44a1-93e2-76239ef950ce"
      },
      "outputs": [
        {
          "name": "stderr",
          "output_type": "stream",
          "text": [
            "<>:3: SyntaxWarning: \"is\" with a literal. Did you mean \"==\"?\n",
            "<>:4: SyntaxWarning: \"is not\" with a literal. Did you mean \"!=\"?\n",
            "<>:3: SyntaxWarning: \"is\" with a literal. Did you mean \"==\"?\n",
            "<>:4: SyntaxWarning: \"is not\" with a literal. Did you mean \"!=\"?\n",
            "<ipython-input-5-4ebd421497a6>:3: SyntaxWarning: \"is\" with a literal. Did you mean \"==\"?\n",
            "  5 is 5.0\n",
            "<ipython-input-5-4ebd421497a6>:4: SyntaxWarning: \"is not\" with a literal. Did you mean \"!=\"?\n",
            "  5 is not 5.0\n"
          ]
        },
        {
          "data": {
            "text/plain": [
              "True"
            ]
          },
          "execution_count": 5,
          "metadata": {},
          "output_type": "execute_result"
        }
      ],
      "source": [
        "5 == 5\n",
        "5 != 5\n",
        "5 is 5.0\n",
        "5 is not 5.0"
      ]
    },
    {
      "cell_type": "markdown",
      "metadata": {
        "id": "VmujEP8r6CwQ"
      },
      "source": [
        "#Python 條件式\n",
        "- 單項式\n",
        "- 雙項式\n",
        "\n",
        "請給我:\n",
        "- 語法\n",
        "- 說明\n",
        "- 小範例\n",
        "\n",
        "請使用繁體中文"
      ]
    },
    {
      "cell_type": "markdown",
      "metadata": {
        "id": "jRzUONQE6yiG"
      },
      "source": []
    },
    {
      "cell_type": "code",
      "execution_count": null,
      "metadata": {
        "colab": {
          "base_uri": "https://localhost:8080/"
        },
        "id": "N5hjWR5I7qGK",
        "outputId": "64485e50-67fa-4d4c-c83f-515cf279dae8"
      },
      "outputs": [
        {
          "name": "stdout",
          "output_type": "stream",
          "text": [
            "及格\n"
          ]
        }
      ],
      "source": [
        "#雙項選擇\n",
        "scores = 60\n",
        "if scores>=60:\n",
        " print(\"及格\")\n",
        "else:\n",
        " print(\"不及格\")"
      ]
    },
    {
      "cell_type": "code",
      "execution_count": null,
      "metadata": {
        "colab": {
          "base_uri": "https://localhost:8080/"
        },
        "id": "QppNT_7B8_vZ",
        "outputId": "afbbb9cd-ab57-40b7-a981-7b8ceea7676b"
      },
      "outputs": [
        {
          "name": "stdout",
          "output_type": "stream",
          "text": [
            "不及格\n",
            "應用程式結束了\n"
          ]
        }
      ],
      "source": [
        "#單項選擇\n",
        "scores = 55\n",
        "if scores <60:\n",
        "  print(\"不及格\")\n",
        "print(\"應用程式結束了\")"
      ]
    },
    {
      "cell_type": "code",
      "execution_count": 4,
      "metadata": {
        "colab": {
          "base_uri": "https://localhost:8080/"
        },
        "id": "AlUHUszo9Ww4",
        "outputId": "35e777aa-c4df-4e2c-b69a-1f5b752b3adf"
      },
      "outputs": [
        {
          "name": "stdout",
          "output_type": "stream",
          "text": [
            "應用程式結束了\n"
          ]
        }
      ],
      "source": [
        "#單項選擇\n",
        "scores = 100\n",
        "if scores <60:\n",
        "  print(\"不及格\")\n",
        "print(\"應用程式結束了\")"
      ]
    },
    {
      "cell_type": "markdown",
      "metadata": {
        "id": "JSTgp-sB-hmO"
      },
      "source": [
        "#python的多項選擇說明\n",
        "- 語法\n",
        "- 小範例\n",
        "- 繁體中文回覆\n",
        "----\n",
        "pythons的多項選擇結構(多向選擇)是利用多個if-elif-else來實現，讓程式可以根據不同條件執行不同的程式區塊。這種結構適合用來處理多種可能的條件判斷，並依據條件給出不同的結果。\n",
        "\n"
      ]
    },
    {
      "cell_type": "code",
      "execution_count": null,
      "metadata": {
        "colab": {
          "base_uri": "https://localhost:8080/"
        },
        "id": "nFqbr_lN-6_h",
        "outputId": "a6257ab3-b8aa-4d93-ba25-b259a9e4a67f"
      },
      "outputs": [
        {
          "name": "stdout",
          "output_type": "stream",
          "text": [
            "不及格\n"
          ]
        }
      ],
      "source": [
        "#巢狀判斷 (可以解決多項選擇，缺點，當他非常多的條件區塊，會一直往裡面跑，可讀性會變很差)\n",
        "scores = 59\n",
        "if scores >= 80:\n",
        "  print(\"優\")\n",
        "else:\n",
        "  if scores >= 60:\n",
        "    print(\"甲\")\n",
        "  else:\n",
        "    print(\"不及格\")"
      ]
    },
    {
      "cell_type": "code",
      "execution_count": null,
      "metadata": {
        "colab": {
          "base_uri": "https://localhost:8080/"
        },
        "id": "XpFb9dw8BulE",
        "outputId": "7cbc9050-e126-43f1-e787-ceb5517e3031"
      },
      "outputs": [
        {
          "name": "stdout",
          "output_type": "stream",
          "text": [
            "不及格\n"
          ]
        }
      ],
      "source": [
        "#多項選擇結構\n",
        "scores = 30\n",
        "if scores >= 80:\n",
        "  print(\"優\")\n",
        "elif scores >= 60:\n",
        "  print(\"甲\")\n",
        "else:\n",
        "  print(\"不及格\")"
      ]
    },
    {
      "cell_type": "code",
      "execution_count": 13,
      "metadata": {
        "colab": {
          "base_uri": "https://localhost:8080/"
        },
        "id": "EiMDh-T_HHuz",
        "outputId": "09329c83-854b-437d-e46e-b9ae47facfc8"
      },
      "outputs": [
        {
          "name": "stdout",
          "output_type": "stream",
          "text": [
            "滿分\n"
          ]
        }
      ],
      "source": [
        "#多項選擇的結構\n",
        "scores = 100\n",
        "if scores == 0:\n",
        " print(\"零\")\n",
        "elif scores < 60:\n",
        "  print(\"不及格\")\n",
        "elif scores < 70:\n",
        "  print(\"丙\")\n",
        "elif scores < 80:\n",
        "  print(\"乙\")\n",
        "elif scores < 90:\n",
        "  print(\"甲\")\n",
        "elif scores <100:\n",
        "  print(\"優\")\n",
        "else:\n",
        "  print(\"滿分\")"
      ]
    }
  ],
  "metadata": {
    "colab": {
      "include_colab_link": true,
      "provenance": []
    },
    "kernelspec": {
      "display_name": "chihlee1",
      "language": "python",
      "name": "python3"
    },
    "language_info": {
      "codemirror_mode": {
        "name": "ipython",
        "version": 3
      },
      "file_extension": ".py",
      "mimetype": "text/x-python",
      "name": "python",
      "nbconvert_exporter": "python",
      "pygments_lexer": "ipython3",
      "version": "3.10.16"
    }
  },
  "nbformat": 4,
  "nbformat_minor": 0
}
