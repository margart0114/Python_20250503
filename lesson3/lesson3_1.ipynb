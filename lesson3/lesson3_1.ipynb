{
  "nbformat": 4,
  "nbformat_minor": 0,
  "metadata": {
    "colab": {
      "provenance": [],
      "authorship_tag": "ABX9TyMX2lXsTK0d3fr95SOZp+8J",
      "include_colab_link": true
    },
    "kernelspec": {
      "name": "python3",
      "display_name": "Python 3"
    },
    "language_info": {
      "name": "python"
    }
  },
  "cells": [
    {
      "cell_type": "markdown",
      "metadata": {
        "id": "view-in-github",
        "colab_type": "text"
      },
      "source": [
        "<a href=\"https://colab.research.google.com/github/margart0114/Python_20250503/blob/main/lesson3/lesson3_1.ipynb\" target=\"_parent\"><img src=\"https://colab.research.google.com/assets/colab-badge.svg\" alt=\"Open In Colab\"/></a>"
      ]
    },
    {
      "cell_type": "markdown",
      "source": [
        "###學習程式碼\n",
        "- 數學運算\n",
        "- 流程控制\\\n",
        " -判斷(條件式 if)\\\n",
        " -迴圈(loop)\n"
      ],
      "metadata": {
        "id": "JoB2XtR3OZ0y"
      }
    },
    {
      "cell_type": "markdown",
      "source": [
        "#python判斷"
      ],
      "metadata": {
        "id": "mshAW9zqPm8v"
      }
    },
    {
      "cell_type": "markdown",
      "source": [
        "#python的條件式\n",
        "##python的比較運算子\n",
        "Python 的比較運算子用來比較兩個值，並回傳布林值（True 或 False）。Python 支援以下主要的比較運算子：\n",
        "\n",
        "- `<` ：小於\n",
        "- `<=` ：小於等於\n",
        "- `>` ：大於\n",
        "- `>=` ：大於等於\n",
        "- `==` ：等於\n",
        "- `!=` ：不等於\n",
        "- `is` ：判斷兩個物件是否為同一個物件（物件識別）\n",
        "- `is not` ：判斷兩個物件是否不是同一個物件"
      ],
      "metadata": {
        "id": "dCk3NtNgTGcI"
      }
    },
    {
      "cell_type": "code",
      "source": [
        " 5 == 5\n",
        " 5 != 5\n",
        " 5 is 5.0\n",
        " 5 is not 5.0"
      ],
      "metadata": {
        "id": "RFzMBCDaTHjf",
        "outputId": "4310d94e-b928-4e15-ce30-a41d910d8a62",
        "colab": {
          "base_uri": "https://localhost:8080/"
        }
      },
      "execution_count": null,
      "outputs": [
        {
          "output_type": "stream",
          "name": "stderr",
          "text": [
            "<>:3: SyntaxWarning: \"is\" with a literal. Did you mean \"==\"?\n",
            "<>:4: SyntaxWarning: \"is not\" with a literal. Did you mean \"!=\"?\n",
            "<>:3: SyntaxWarning: \"is\" with a literal. Did you mean \"==\"?\n",
            "<>:4: SyntaxWarning: \"is not\" with a literal. Did you mean \"!=\"?\n",
            "<ipython-input-4-4ebd421497a6>:3: SyntaxWarning: \"is\" with a literal. Did you mean \"==\"?\n",
            "  5 is 5.0\n",
            "<ipython-input-4-4ebd421497a6>:4: SyntaxWarning: \"is not\" with a literal. Did you mean \"!=\"?\n",
            "  5 is not 5.0\n"
          ]
        },
        {
          "output_type": "execute_result",
          "data": {
            "text/plain": [
              "True"
            ]
          },
          "metadata": {},
          "execution_count": 4
        }
      ]
    },
    {
      "cell_type": "markdown",
      "source": [
        "#python 條件式\n",
        "- 單項式\n",
        "- 雙項式\n",
        "\n",
        "請給我:\n",
        "- 語法\n",
        "- 說明\n",
        "- 小範例\n",
        "\n",
        "請使用繁體中文"
      ],
      "metadata": {
        "id": "wYU3LKrSUiNm"
      }
    },
    {
      "cell_type": "markdown",
      "source": [
        "在Python中，條件式可分為「單項式」與「雙項式」，以下說明其語法、意義與範例：\n",
        "\n",
        "## 單項式條件式\n",
        "\n",
        "**語法：**\n",
        "\n",
        "```python\n",
        "if 條件:\n",
        "    執行程式區塊\n",
        "```\n",
        "\n",
        "**說明：**  \n",
        "單項式條件式指的是只有一個判斷條件，當條件成立（True）時，執行縮排的程式區塊，否則不執行任何動作（無else部分）。這是最簡單的條件判斷。\n",
        "\n",
        "**範例：**\n",
        "\n",
        "```python\n",
        "score = 75\n",
        "if score >= 60:\n",
        "    print(\"及格\")\n",
        "```\n",
        "\n",
        "執行結果：\n",
        "\n",
        "```\n",
        "及格\n",
        "```\n",
        "\n",
        "（當score大於等於60時，印出「及格」）[4][5][6]\n",
        "\n",
        "---\n",
        "\n",
        "## 雙項式條件式\n",
        "\n",
        "**語法：**\n",
        "\n",
        "```python\n",
        "if 條件:\n",
        "    條件成立時執行的程式區塊\n",
        "else:\n",
        "    條件不成立時執行的程式區塊\n",
        "```\n",
        "\n",
        "**說明：**  \n",
        "雙項式條件式有兩個分支，當條件為True時執行if區塊，條件為False時執行else區塊，確保程式必定執行其中一個區塊。\n",
        "\n",
        "**範例：**\n",
        "\n",
        "```python\n",
        "score = 55\n",
        "if score >= 60:\n",
        "    print(\"及格\")\n",
        "else:\n",
        "    print(\"不及格\")\n",
        "```\n",
        "\n",
        "執行結果：\n",
        "\n",
        "```\n",
        "不及格\n",
        "```\n",
        "\n",
        "（當score小於60時，印出「不及格」）[3][4][5]\n",
        "\n",
        "---\n",
        "\n",
        "## 補充：多項式條件式（if-elif-else）\n",
        "\n",
        "當有多個條件判斷時，可使用elif擴充：\n",
        "\n",
        "```python\n",
        "score = 85\n",
        "if score >= 90:\n",
        "    print(\"優等\")\n",
        "elif score >= 60:\n",
        "    print(\"及格\")\n",
        "else:\n",
        "    print(\"不及格\")\n",
        "```\n",
        "\n",
        "---\n",
        "\n",
        "## 小結\n",
        "\n",
        "| 條件式類型 | 語法範例                        | 說明                         |\n",
        "|------------|--------------------------------|------------------------------|\n",
        "| 單項式     | `if 條件:`<br>`    程式區塊`   | 條件成立才執行，否則跳過     |\n",
        "| 雙項式     | `if 條件:`<br>`    程式區塊`<br>`else:`<br>`    程式區塊` | 條件成立執行if區塊，否則執行else區塊 |\n",
        "\n",
        "---"
      ],
      "metadata": {
        "id": "SeE8z90QVQRs"
      }
    },
    {
      "cell_type": "code",
      "source": [
        "#雙項選擇\n",
        "scores = 60\n",
        "if scores >= 60:\n",
        "  print(\"及格\")\n",
        "else:\n",
        "  print(\"不及格\")"
      ],
      "metadata": {
        "id": "n7ZCmnTdVSAb",
        "outputId": "9a6b7e80-e073-49da-b43a-d96ba7e655e3",
        "colab": {
          "base_uri": "https://localhost:8080/"
        }
      },
      "execution_count": null,
      "outputs": [
        {
          "output_type": "stream",
          "name": "stdout",
          "text": [
            "及格\n"
          ]
        }
      ]
    },
    {
      "cell_type": "code",
      "source": [
        "#單項選擇\n",
        "scores = 60\n",
        "if scores < 60:\n",
        "  print(\"不及格\")\n",
        "print(\"應用程式結束了\")"
      ],
      "metadata": {
        "id": "RTzYmNxeVnis",
        "outputId": "95b1faf9-3c6e-4adb-8dd8-35f7798bf1c6",
        "colab": {
          "base_uri": "https://localhost:8080/"
        }
      },
      "execution_count": null,
      "outputs": [
        {
          "output_type": "stream",
          "name": "stdout",
          "text": [
            "應用程式結束了\n"
          ]
        }
      ]
    },
    {
      "cell_type": "markdown",
      "source": [
        "#python的多項選擇說明\n",
        "- 語法\n",
        "- 小範例\n",
        "- 繁體中文回覆\n",
        "---\n",
        "Python 的多項選擇結構（多向選擇）是利用多個 if-elif-else 來實現，讓程式可以根據不同條件執行不同的程式區塊。這種結構適合用來處理多種可能的條件判斷，並依據條件給出不同的結果。\n",
        "\n",
        "```\n",
        "if 條件判斷1:\n",
        "    條件判斷1成立時執行的程式碼\\\n",
        "elif 條件判斷2:\n",
        "    條件判斷2成立時執行的程式碼\\\n",
        "elif 條件判斷3:\n",
        "    條件判斷3成立時執行的程式碼\\\n",
        "...\n",
        "else:\n",
        "    以上條件皆不成立時執行的程式碼"
      ],
      "metadata": {
        "id": "6y7bXtoPV-aO"
      }
    },
    {
      "cell_type": "code",
      "source": [
        "#巢狀判斷\n",
        "scores = 59\n",
        "if scores >= 80:\n",
        "  print(\"優\")\n",
        "else:\n",
        "  if scores >=60:\n",
        "    print(\"甲\")\n",
        "  else:\n",
        "    print(\"不及格\")"
      ],
      "metadata": {
        "id": "AA-hd--pWIKw",
        "outputId": "a9261c7c-3198-4efd-f739-8f97922a2dad",
        "colab": {
          "base_uri": "https://localhost:8080/"
        }
      },
      "execution_count": null,
      "outputs": [
        {
          "output_type": "stream",
          "name": "stdout",
          "text": [
            "不及格\n"
          ]
        }
      ]
    },
    {
      "cell_type": "code",
      "source": [
        "#多項選擇結構\n",
        "scores = 30\n",
        "if scores >= 80:\n",
        "  print(\"優\")\n",
        "elif scores >=60:\n",
        "  print(\"甲\")\n",
        "else:\n",
        "  print(\"不及格\")"
      ],
      "metadata": {
        "id": "N5ze3hvxnQtQ",
        "outputId": "93ae05ae-be2e-4304-ffd1-8053824bf48b",
        "colab": {
          "base_uri": "https://localhost:8080/"
        }
      },
      "execution_count": null,
      "outputs": [
        {
          "output_type": "stream",
          "name": "stdout",
          "text": [
            "不及格\n"
          ]
        }
      ]
    },
    {
      "cell_type": "code",
      "source": [
        "#多項選擇的結構\n",
        "scores = 59\n",
        "if scores < 60:\n",
        "  print(\"不及格\")\n",
        "elif scores < 70:\n",
        "  print(\"丙\")\n",
        "elif scores < 80:\n",
        "  print(\"乙\")\n",
        "elif scores < 90:\n",
        "  print(\"甲\")\n",
        "else:\n",
        "  print(\"優\")"
      ],
      "metadata": {
        "id": "_QbYyxuLoDL3",
        "outputId": "3b226008-113f-41fb-a476-b96eaaf9d7b2",
        "colab": {
          "base_uri": "https://localhost:8080/"
        }
      },
      "execution_count": 26,
      "outputs": [
        {
          "output_type": "stream",
          "name": "stdout",
          "text": [
            "不及格\n"
          ]
        }
      ]
    }
  ]
}