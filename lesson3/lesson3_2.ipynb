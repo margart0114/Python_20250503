{
  "nbformat": 4,
  "nbformat_minor": 0,
  "metadata": {
    "colab": {
      "provenance": [],
      "authorship_tag": "ABX9TyO+CbHOzVtw4XmJNJy04zAy",
      "include_colab_link": true
    },
    "kernelspec": {
      "name": "python3",
      "display_name": "Python 3"
    },
    "language_info": {
      "name": "python"
    }
  },
  "cells": [
    {
      "cell_type": "markdown",
      "metadata": {
        "id": "view-in-github",
        "colab_type": "text"
      },
      "source": [
        "<a href=\"https://colab.research.google.com/github/margart0114/Python_20250503/blob/main/lesson3/lesson3_2.ipynb\" target=\"_parent\"><img src=\"https://colab.research.google.com/assets/colab-badge.svg\" alt=\"Open In Colab\"/></a>"
      ]
    },
    {
      "cell_type": "markdown",
      "source": [
        "#python邏輯運算子\n",
        "----\n"
      ],
      "metadata": {
        "id": "jDls4tSBMH_7"
      }
    },
    {
      "cell_type": "code",
      "source": [
        "pressure = 92\n",
        "if pressure >= 80:\n",
        "  if pressure <=120:\n",
        "    print(\"血壓正常\")"
      ],
      "metadata": {
        "colab": {
          "base_uri": "https://localhost:8080/"
        },
        "id": "a3XcbgaKMH3l",
        "outputId": "efd06519-a772-433e-a773-f533eb505dd1"
      },
      "execution_count": null,
      "outputs": [
        {
          "output_type": "stream",
          "name": "stdout",
          "text": [
            "血壓正常\n"
          ]
        }
      ]
    },
    {
      "cell_type": "code",
      "source": [
        "pressure = 79\n",
        "if pressure >=80 and pressure <=120:\n",
        "  print(\"血壓正常\")\n",
        "else:\n",
        "  print(\"血壓不正常\")"
      ],
      "metadata": {
        "colab": {
          "base_uri": "https://localhost:8080/"
        },
        "id": "3Fu0G0JiMkTD",
        "outputId": "7385e499-7d1e-4e11-9e9e-ec23f1a94e6d"
      },
      "execution_count": null,
      "outputs": [
        {
          "output_type": "stream",
          "name": "stdout",
          "text": [
            "血壓不正常\n"
          ]
        }
      ]
    },
    {
      "cell_type": "code",
      "source": [
        "pressure = 92\n",
        "if pressure <80 or pressure >120:\n",
        "  print(\"血壓不正常\")\n",
        "else:\n",
        "  print(\"血壓正常\")"
      ],
      "metadata": {
        "colab": {
          "base_uri": "https://localhost:8080/"
        },
        "id": "LwBRPbdQMyBa",
        "outputId": "5fd7f7d1-05ce-4fb3-9b4f-5af1718f1ed0"
      },
      "execution_count": 6,
      "outputs": [
        {
          "output_type": "stream",
          "name": "stdout",
          "text": [
            "血壓正常\n"
          ]
        }
      ]
    },
    {
      "cell_type": "code",
      "source": [
        "#not的功能是讓true和false的程式區塊對調\n",
        "pressure = 90\n",
        "if not (pressure >=80 and pressure <=120):\n",
        "  print(\"血壓不正常\")\n",
        "else:\n",
        "  print(\"血壓正常\")"
      ],
      "metadata": {
        "colab": {
          "base_uri": "https://localhost:8080/"
        },
        "id": "w-Z_uX9cPGLA",
        "outputId": "32d668e3-14e5-4dc4-88ba-a0663f0b6147"
      },
      "execution_count": 18,
      "outputs": [
        {
          "output_type": "stream",
          "name": "stdout",
          "text": [
            "血壓正常\n"
          ]
        }
      ]
    }
  ]
}