{
  "nbformat": 4,
  "nbformat_minor": 0,
  "metadata": {
    "colab": {
      "provenance": [],
      "authorship_tag": "ABX9TyO6iAfTNCUszOE3bgcx7U/8",
      "include_colab_link": true
    },
    "kernelspec": {
      "name": "python3",
      "display_name": "Python 3"
    },
    "language_info": {
      "name": "python"
    }
  },
  "cells": [
    {
      "cell_type": "markdown",
      "metadata": {
        "id": "view-in-github",
        "colab_type": "text"
      },
      "source": [
        "<a href=\"https://colab.research.google.com/github/margart0114/Python_20250503/blob/main/lesson4/lesson4_1.ipynb\" target=\"_parent\"><img src=\"https://colab.research.google.com/assets/colab-badge.svg\" alt=\"Open In Colab\"/></a>"
      ]
    },
    {
      "cell_type": "markdown",
      "source": [
        "#range串列資料\n",
        "- range(10)會有10個元素，0~9\n",
        "\n",
        "#資料結構\n",
        "#list dictionary set\n",
        "- list是串列資料(sequence)\n",
        " -[1,2,3,4,5,6]\n",
        "- tuple串列資料\n",
        "\n",
        "#python詞典物件介紹\n",
        "- dictionary詞典資料 (map資料類型)\n",
        "-{key:value,key:value,key:value}\n",
        "-一組相關聯的資料\n",
        "\n",
        "#Tuple\n",
        "- (1,2,3,4,5,6)\n",
        "\n",
        "表格資料，就是list裡面有dict"
      ],
      "metadata": {
        "id": "M6DAPsAIvWrd"
      }
    },
    {
      "cell_type": "code",
      "source": [
        "for i in [45, 92, 78, 50, 69]:\n",
        "  print(i)"
      ],
      "metadata": {
        "id": "93HVQSu8usfy",
        "outputId": "36167893-5d8e-4149-e204-c928f5c31bc8",
        "colab": {
          "base_uri": "https://localhost:8080/"
        }
      },
      "execution_count": 5,
      "outputs": [
        {
          "output_type": "stream",
          "name": "stdout",
          "text": [
            "45\n",
            "92\n",
            "78\n",
            "50\n",
            "69\n"
          ]
        }
      ]
    },
    {
      "cell_type": "code",
      "source": [
        "#tuple\n",
        "for i in(45, 92, 78, 50, 69):\n",
        "  print(i)"
      ],
      "metadata": {
        "id": "QRr16HxPvoaQ",
        "outputId": "0898b6c8-dab3-4a70-a8d7-1c49da87fd29",
        "colab": {
          "base_uri": "https://localhost:8080/"
        }
      },
      "execution_count": 6,
      "outputs": [
        {
          "output_type": "stream",
          "name": "stdout",
          "text": [
            "45\n",
            "92\n",
            "78\n",
            "50\n",
            "69\n"
          ]
        }
      ]
    },
    {
      "cell_type": "markdown",
      "source": [
        "#python list和tuple有何差別\n",
        "---\n",
        "- list是永久的資料\n",
        "\n",
        "- tuple是暫時資料\n"
      ],
      "metadata": {
        "id": "WW-7Osd5v4Dv"
      }
    },
    {
      "cell_type": "code",
      "source": [
        "desserts = {'Muffin':39,'Scone':25,'Biscuit':20}\n",
        "desserts[\"Muffin\"]\n",
        "desserts[\"Biscuit\"]"
      ],
      "metadata": {
        "id": "ce6mM9MTxBKt",
        "outputId": "334c8f97-c9d6-4537-8621-d093ea6d067d",
        "colab": {
          "base_uri": "https://localhost:8080/"
        }
      },
      "execution_count": 8,
      "outputs": [
        {
          "output_type": "execute_result",
          "data": {
            "text/plain": [
              "20"
            ]
          },
          "metadata": {},
          "execution_count": 8
        }
      ]
    },
    {
      "cell_type": "code",
      "source": [
        "stu1 = {\"name\":\"robert\",\n",
        "     \"chinese\":78,\n",
        "     \"english\":98,\n",
        "     \"math\":73}\n",
        "\n",
        "stu2 = {\"name\":\"alice\",\n",
        "     \"chinese\":72,\n",
        "     \"english\":88,\n",
        "     \"math\":63}\n",
        "\n",
        "stu3 = {\"name\":\"jenny\",\n",
        "     \"chinese\":65,\n",
        "     \"english\":78,\n",
        "     \"math\":93}"
      ],
      "metadata": {
        "id": "EN4yzqW5znOt"
      },
      "execution_count": 10,
      "outputs": []
    },
    {
      "cell_type": "code",
      "source": [
        "type(stu3)"
      ],
      "metadata": {
        "id": "2gbx3jWC0hnd",
        "outputId": "6c4e0464-8049-48d2-ec66-ba348d8d6cd8",
        "colab": {
          "base_uri": "https://localhost:8080/"
        }
      },
      "execution_count": 13,
      "outputs": [
        {
          "output_type": "execute_result",
          "data": {
            "text/plain": [
              "dict"
            ]
          },
          "metadata": {},
          "execution_count": 13
        }
      ]
    },
    {
      "cell_type": "code",
      "source": [
        "students = [stu1,stu2,stu3]\n",
        "students"
      ],
      "metadata": {
        "id": "B_mQe-300z1z",
        "outputId": "86244f41-d466-4e64-b529-ae96e5ea1675",
        "colab": {
          "base_uri": "https://localhost:8080/"
        }
      },
      "execution_count": 15,
      "outputs": [
        {
          "output_type": "execute_result",
          "data": {
            "text/plain": [
              "[{'name': 'robert', 'chinese': 78, 'english': 98, 'math': 73},\n",
              " {'name': 'alice', 'chinese': 72, 'english': 88, 'math': 63},\n",
              " {'name': 'jenny', 'chinese': 65, 'english': 78, 'math': 93}]"
            ]
          },
          "metadata": {},
          "execution_count": 15
        }
      ]
    },
    {
      "cell_type": "code",
      "source": [
        "for student in students:\n",
        "  print(\"姓名:\",student[\"name\"])\n",
        "  print(\"國文:\",student[\"chinese\"])\n",
        "  print(\"英文:\",student[\"english\"])\n",
        "  print(\"數學:\",student[\"math\"])\n",
        "  print(\"=================\")"
      ],
      "metadata": {
        "id": "aaR6taRn1qQC",
        "outputId": "4aad7894-d8c0-4558-c0ad-110b72c94f99",
        "colab": {
          "base_uri": "https://localhost:8080/"
        }
      },
      "execution_count": 20,
      "outputs": [
        {
          "output_type": "stream",
          "name": "stdout",
          "text": [
            "姓名: robert\n",
            "國文: 78\n",
            "英文: 98\n",
            "數學: 73\n",
            "=================\n",
            "姓名: alice\n",
            "國文: 72\n",
            "英文: 88\n",
            "數學: 63\n",
            "=================\n",
            "姓名: jenny\n",
            "國文: 65\n",
            "英文: 78\n",
            "數學: 93\n",
            "=================\n"
          ]
        }
      ]
    }
  ]
}