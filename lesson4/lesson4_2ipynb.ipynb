{
  "nbformat": 4,
  "nbformat_minor": 0,
  "metadata": {
    "colab": {
      "provenance": [],
      "authorship_tag": "ABX9TyOUSlpW8JfSDN4pDxHLjlTk",
      "include_colab_link": true
    },
    "kernelspec": {
      "name": "python3",
      "display_name": "Python 3"
    },
    "language_info": {
      "name": "python"
    }
  },
  "cells": [
    {
      "cell_type": "markdown",
      "metadata": {
        "id": "view-in-github",
        "colab_type": "text"
      },
      "source": [
        "<a href=\"https://colab.research.google.com/github/margart0114/Python_20250503/blob/main/lesson4/lesson4_2ipynb.ipynb\" target=\"_parent\"><img src=\"https://colab.research.google.com/assets/colab-badge.svg\" alt=\"Open In Colab\"/></a>"
      ]
    },
    {
      "cell_type": "markdown",
      "source": [
        "#python while迴圈說明\n",
        "---\n",
        "Python 中的 while 迴圈 是一種根據條件判斷來決定是否重複執行程式碼區塊的迴圈結構。當條件為 True 時，迴圈內的程式碼會持續執行；當條件變為 False 時，迴圈停止\n",
        "\n",
        "\n",
        "## **for...in...**\n",
        "- 明確知道執行的次數\n",
        "\n",
        "## **while**\n",
        "- 不知道執行的次數\n",
        "- ex: 我叫一個學生去操場跑步，直到下雨為止 (但不知道執行幾次)\n",
        "- ex: 玩遊戲，不知道使用者game over後會玩幾次, 此時用while迴圈\n",
        "- 用while迴圈的3步驟\n",
        "\n",
        "  - 主程式區塊: 使用在while迴圈的條件式內(一定要建立一個控while迴圈執行正與否的變數)\n",
        "  - 比較運算子\n",
        "  - 改變變數的值 (如果沒有做第3步，就會變成無限迴圈)\n",
        "- break: 直接跳出迴圈\n",
        "- continue:底下不要執行，請跳到下一個迴圈\n"
      ],
      "metadata": {
        "id": "XbFcFJ448bx3"
      }
    },
    {
      "cell_type": "code",
      "execution_count": 2,
      "metadata": {
        "id": "Vaio-mnU8OC9",
        "outputId": "10a8ccb2-7351-45d3-c820-911598abacef",
        "colab": {
          "base_uri": "https://localhost:8080/"
        }
      },
      "outputs": [
        {
          "output_type": "stream",
          "name": "stdout",
          "text": [
            "1\n",
            "2\n",
            "3\n",
            "4\n",
            "5\n"
          ]
        }
      ],
      "source": [
        "count = 1\n",
        "while count <=5:\n",
        "  print(count)\n",
        "  count += 1"
      ]
    },
    {
      "cell_type": "code",
      "source": [
        "total = 0\n",
        "while True:\n",
        "  num = int (input(\"請輸入一個數字(輸入0結束:)\"))\n",
        "  if num == 0:\n",
        "    break\n",
        "  total += num\n",
        "print(\"總和:\",total)"
      ],
      "metadata": {
        "id": "JqycYsKy_w2q",
        "outputId": "7ad99653-2490-47f6-a954-2c2df3b0813e",
        "colab": {
          "base_uri": "https://localhost:8080/"
        }
      },
      "execution_count": 5,
      "outputs": [
        {
          "output_type": "stream",
          "name": "stdout",
          "text": [
            "請輸入一個數字(輸入0結束:)10\n",
            "請輸入一個數字(輸入0結束:)5\n",
            "請輸入一個數字(輸入0結束:)0\n",
            "總和: 15\n"
          ]
        }
      ]
    }
  ]
}