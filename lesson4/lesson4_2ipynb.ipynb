{
  "nbformat": 4,
  "nbformat_minor": 0,
  "metadata": {
    "colab": {
      "provenance": [],
      "authorship_tag": "ABX9TyPmDMxvqJrTwjKkxl/TQN0/",
      "include_colab_link": true
    },
    "kernelspec": {
      "name": "python3",
      "display_name": "Python 3"
    },
    "language_info": {
      "name": "python"
    }
  },
  "cells": [
    {
      "cell_type": "markdown",
      "metadata": {
        "id": "view-in-github",
        "colab_type": "text"
      },
      "source": [
        "<a href=\"https://colab.research.google.com/github/margart0114/Python_20250503/blob/main/lesson4/lesson4_2ipynb.ipynb\" target=\"_parent\"><img src=\"https://colab.research.google.com/assets/colab-badge.svg\" alt=\"Open In Colab\"/></a>"
      ]
    },
    {
      "cell_type": "markdown",
      "source": [
        "#python while迴圈說明\n",
        "---\n",
        "Python 中的 while 迴圈 是一種根據條件判斷來決定是否重複執行程式碼區塊的迴圈結構。當條件為 True 時，迴圈內的程式碼會持續執行；當條件變為 False 時，迴圈停止\n",
        "\n",
        "\n",
        "## **for...in...**\n",
        "- 明確知道執行的次數\n",
        "\n",
        "## **while**\n",
        "- 不知道執行的次數\n",
        "- ex: 我叫一個學生去操場跑步，直到下雨為止 (但不知道執行幾次)\n",
        "- ex: 玩遊戲，不知道使用者game over後會玩幾次, 此時用while迴圈\n",
        "- 用while迴圈的3步驟\n",
        "\n",
        "  - 主程式區塊: 使用在while迴圈的條件式內(一定要建立一個控while迴圈執行正與否的變數)\n",
        "  - 比較運算子\n",
        "  - 改變變數的值 (如果沒有做第3步，就會變成無限迴圈)\n",
        "- break: 直接跳出迴圈\n",
        "- continue:底下不要執行，請跳到下一個迴圈\n"
      ],
      "metadata": {
        "id": "XbFcFJ448bx3"
      }
    },
    {
      "cell_type": "code",
      "execution_count": null,
      "metadata": {
        "id": "Vaio-mnU8OC9",
        "outputId": "10a8ccb2-7351-45d3-c820-911598abacef",
        "colab": {
          "base_uri": "https://localhost:8080/"
        }
      },
      "outputs": [
        {
          "output_type": "stream",
          "name": "stdout",
          "text": [
            "1\n",
            "2\n",
            "3\n",
            "4\n",
            "5\n"
          ]
        }
      ],
      "source": [
        "count = 1\n",
        "while count <=5:\n",
        "  print(count)\n",
        "  count += 1"
      ]
    },
    {
      "cell_type": "code",
      "source": [
        "total = 0\n",
        "while True:\n",
        "  num = int (input(\"請輸入一個數字(輸入0結束:)\"))\n",
        "  if num == 0:\n",
        "    break\n",
        "  total += num\n",
        "print(\"總和:\",total)"
      ],
      "metadata": {
        "id": "JqycYsKy_w2q",
        "outputId": "9cc4708a-1b03-43b9-cbbf-6c786a4d091e",
        "colab": {
          "base_uri": "https://localhost:8080/"
        }
      },
      "execution_count": null,
      "outputs": [
        {
          "output_type": "stream",
          "name": "stdout",
          "text": [
            "請輸入一個數字(輸入0結束:)8\n",
            "請輸入一個數字(輸入0結束:)9\n",
            "請輸入一個數字(輸入0結束:)010\n",
            "請輸入一個數字(輸入0結束:)229\n",
            "請輸入一個數字(輸入0結束:)0\n",
            "總和: 256\n"
          ]
        }
      ]
    },
    {
      "cell_type": "code",
      "source": [
        "total = 0\n",
        "while False:\n",
        "  num = int (print(\"請輸入一個數字(輸入0結束:\"))\n",
        "  if num == 0:\n",
        "    break\n",
        "  total += num\n",
        "print (\"總和:\",total)"
      ],
      "metadata": {
        "id": "N8U80KqiCBWV",
        "outputId": "5419474b-5175-47a9-cea7-66863addfb11",
        "colab": {
          "base_uri": "https://localhost:8080/"
        }
      },
      "execution_count": null,
      "outputs": [
        {
          "output_type": "stream",
          "name": "stdout",
          "text": [
            "總和: 0\n"
          ]
        }
      ]
    },
    {
      "cell_type": "markdown",
      "source": [
        "# **Python主要學習的大項目**\n",
        "\n",
        "- 數學運算\n",
        "- 流程控制\n",
        "- 資料結構(list,dict,set,tuple)\n",
        "\n",
        " - 內建函式(function)\n",
        " - 內建工具箱(math)\n",
        " - 內建工具箱(random)\n",
        "\n"
      ],
      "metadata": {
        "id": "il6HZByrGPVA"
      }
    },
    {
      "cell_type": "markdown",
      "source": [
        "## python 取得亂數1~100\n",
        "-random.randint(a,b)\n"
      ],
      "metadata": {
        "id": "bAiEdbZ6H4Rm"
      }
    },
    {
      "cell_type": "code",
      "source": [
        "import random\n",
        "min = 1\n",
        "max = 99\n",
        "count = 0\n",
        "random_number = random.randint(min,max)\n",
        "#print(random_number)\n",
        "print(\"==========猜數字遊戲開始==========\\n\\n\")\n",
        "while(True):\n",
        "  input_number=int(input(f\"請輸入數字({min}~{max}):\"))\n",
        "  count += 1\n",
        "  if (input_number==random_number):\n",
        "    print(\"賓果!猜對了，答案是:{input_number}\")\n",
        "    print(f\"您猜了:{count}次\")\n",
        "    break\n",
        "  elif(input_number>random_number):\n",
        "    print(f\"再小一點\")\n",
        "    max = input_number - 1\n",
        "  elif(input_number<random_number):\n",
        "    print(f\"再大一點\")\n",
        "    min = input_number + 1\n",
        "\n",
        "    print(f\"您已經猜了:{count}次\\n\")\n",
        "\n",
        "print(\"Game Over\")"
      ],
      "metadata": {
        "colab": {
          "base_uri": "https://localhost:8080/",
          "height": 408
        },
        "id": "mKQr8splIXSu",
        "outputId": "de3b76f8-d84b-4da7-a205-26569dbf19c7"
      },
      "execution_count": 59,
      "outputs": [
        {
          "output_type": "stream",
          "name": "stdout",
          "text": [
            "==========猜數字遊戲開始==========\n",
            "\n",
            "\n"
          ]
        },
        {
          "output_type": "error",
          "ename": "KeyboardInterrupt",
          "evalue": "Interrupted by user",
          "traceback": [
            "\u001b[0;31m---------------------------------------------------------------------------\u001b[0m",
            "\u001b[0;31mKeyboardInterrupt\u001b[0m                         Traceback (most recent call last)",
            "\u001b[0;32m<ipython-input-59-80d8600724f0>\u001b[0m in \u001b[0;36m<cell line: 0>\u001b[0;34m()\u001b[0m\n\u001b[1;32m      7\u001b[0m \u001b[0mprint\u001b[0m\u001b[0;34m(\u001b[0m\u001b[0;34m\"==========猜數字遊戲開始==========\\n\\n\"\u001b[0m\u001b[0;34m)\u001b[0m\u001b[0;34m\u001b[0m\u001b[0;34m\u001b[0m\u001b[0m\n\u001b[1;32m      8\u001b[0m \u001b[0;32mwhile\u001b[0m\u001b[0;34m(\u001b[0m\u001b[0;32mTrue\u001b[0m\u001b[0;34m)\u001b[0m\u001b[0;34m:\u001b[0m\u001b[0;34m\u001b[0m\u001b[0;34m\u001b[0m\u001b[0m\n\u001b[0;32m----> 9\u001b[0;31m   \u001b[0minput_number\u001b[0m\u001b[0;34m=\u001b[0m\u001b[0mint\u001b[0m\u001b[0;34m(\u001b[0m\u001b[0minput\u001b[0m\u001b[0;34m(\u001b[0m\u001b[0;34mf\"請輸入數字({min}~{max}):\"\u001b[0m\u001b[0;34m)\u001b[0m\u001b[0;34m)\u001b[0m\u001b[0;34m\u001b[0m\u001b[0;34m\u001b[0m\u001b[0m\n\u001b[0m\u001b[1;32m     10\u001b[0m   \u001b[0mcount\u001b[0m \u001b[0;34m+=\u001b[0m \u001b[0;36m1\u001b[0m\u001b[0;34m\u001b[0m\u001b[0;34m\u001b[0m\u001b[0m\n\u001b[1;32m     11\u001b[0m   \u001b[0;32mif\u001b[0m \u001b[0;34m(\u001b[0m\u001b[0minput_number\u001b[0m\u001b[0;34m==\u001b[0m\u001b[0mrandom_number\u001b[0m\u001b[0;34m)\u001b[0m\u001b[0;34m:\u001b[0m\u001b[0;34m\u001b[0m\u001b[0;34m\u001b[0m\u001b[0m\n",
            "\u001b[0;32m/usr/local/lib/python3.11/dist-packages/ipykernel/kernelbase.py\u001b[0m in \u001b[0;36mraw_input\u001b[0;34m(self, prompt)\u001b[0m\n\u001b[1;32m   1175\u001b[0m                 \u001b[0;34m\"raw_input was called, but this frontend does not support input requests.\"\u001b[0m\u001b[0;34m\u001b[0m\u001b[0;34m\u001b[0m\u001b[0m\n\u001b[1;32m   1176\u001b[0m             )\n\u001b[0;32m-> 1177\u001b[0;31m         return self._input_request(\n\u001b[0m\u001b[1;32m   1178\u001b[0m             \u001b[0mstr\u001b[0m\u001b[0;34m(\u001b[0m\u001b[0mprompt\u001b[0m\u001b[0;34m)\u001b[0m\u001b[0;34m,\u001b[0m\u001b[0;34m\u001b[0m\u001b[0;34m\u001b[0m\u001b[0m\n\u001b[1;32m   1179\u001b[0m             \u001b[0mself\u001b[0m\u001b[0;34m.\u001b[0m\u001b[0m_parent_ident\u001b[0m\u001b[0;34m[\u001b[0m\u001b[0;34m\"shell\"\u001b[0m\u001b[0;34m]\u001b[0m\u001b[0;34m,\u001b[0m\u001b[0;34m\u001b[0m\u001b[0;34m\u001b[0m\u001b[0m\n",
            "\u001b[0;32m/usr/local/lib/python3.11/dist-packages/ipykernel/kernelbase.py\u001b[0m in \u001b[0;36m_input_request\u001b[0;34m(self, prompt, ident, parent, password)\u001b[0m\n\u001b[1;32m   1217\u001b[0m             \u001b[0;32mexcept\u001b[0m \u001b[0mKeyboardInterrupt\u001b[0m\u001b[0;34m:\u001b[0m\u001b[0;34m\u001b[0m\u001b[0;34m\u001b[0m\u001b[0m\n\u001b[1;32m   1218\u001b[0m                 \u001b[0;31m# re-raise KeyboardInterrupt, to truncate traceback\u001b[0m\u001b[0;34m\u001b[0m\u001b[0;34m\u001b[0m\u001b[0m\n\u001b[0;32m-> 1219\u001b[0;31m                 \u001b[0;32mraise\u001b[0m \u001b[0mKeyboardInterrupt\u001b[0m\u001b[0;34m(\u001b[0m\u001b[0;34m\"Interrupted by user\"\u001b[0m\u001b[0;34m)\u001b[0m \u001b[0;32mfrom\u001b[0m \u001b[0;32mNone\u001b[0m\u001b[0;34m\u001b[0m\u001b[0;34m\u001b[0m\u001b[0m\n\u001b[0m\u001b[1;32m   1220\u001b[0m             \u001b[0;32mexcept\u001b[0m \u001b[0mException\u001b[0m\u001b[0;34m:\u001b[0m\u001b[0;34m\u001b[0m\u001b[0;34m\u001b[0m\u001b[0m\n\u001b[1;32m   1221\u001b[0m                 \u001b[0mself\u001b[0m\u001b[0;34m.\u001b[0m\u001b[0mlog\u001b[0m\u001b[0;34m.\u001b[0m\u001b[0mwarning\u001b[0m\u001b[0;34m(\u001b[0m\u001b[0;34m\"Invalid Message:\"\u001b[0m\u001b[0;34m,\u001b[0m \u001b[0mexc_info\u001b[0m\u001b[0;34m=\u001b[0m\u001b[0;32mTrue\u001b[0m\u001b[0;34m)\u001b[0m\u001b[0;34m\u001b[0m\u001b[0;34m\u001b[0m\u001b[0m\n",
            "\u001b[0;31mKeyboardInterrupt\u001b[0m: Interrupted by user"
          ]
        }
      ]
    },
    {
      "cell_type": "code",
      "source": [
        "orange = 3\n",
        "apple = 5\n",
        "\"你有orange\" + str(orange) +\"個，apple\" + str (apple) +\"個\""
      ],
      "metadata": {
        "colab": {
          "base_uri": "https://localhost:8080/",
          "height": 35
        },
        "id": "xzgOGpY6J2l1",
        "outputId": "9ed2f9fc-a7d0-427e-9ed8-164bbd47c3ed"
      },
      "execution_count": 45,
      "outputs": [
        {
          "output_type": "execute_result",
          "data": {
            "text/plain": [
              "'你有orange3個，apple5個'"
            ],
            "application/vnd.google.colaboratory.intrinsic+json": {
              "type": "string"
            }
          },
          "metadata": {},
          "execution_count": 45
        }
      ]
    },
    {
      "cell_type": "code",
      "source": [
        "orange = 3\n",
        "apple = 5\n",
        "f\"你有orange{orange}個，apple{apple}個\""
      ],
      "metadata": {
        "colab": {
          "base_uri": "https://localhost:8080/",
          "height": 35
        },
        "id": "5pc2EmA_KuA0",
        "outputId": "11dc0757-9871-4f38-f6f7-c016148cb80a"
      },
      "execution_count": 47,
      "outputs": [
        {
          "output_type": "execute_result",
          "data": {
            "text/plain": [
              "'你有orange3個，apple5個'"
            ],
            "application/vnd.google.colaboratory.intrinsic+json": {
              "type": "string"
            }
          },
          "metadata": {},
          "execution_count": 47
        }
      ]
    },
    {
      "cell_type": "code",
      "source": [
        "import random\n",
        "min = 1\n",
        "max = 99\n",
        "count =0\n",
        "random_number = random.randint(min,max)\n",
        "print(\"===========猜數字遊戲開始========\\n\\n\")\n",
        "while True:\n",
        "  input_number=int(input(f\"請輸入數字({min}~{max}):\"))\n",
        "  count += 1\n",
        "  if(input_number==random_number):\n",
        "    print(\"賓果!猜對了，答案是:{input_number}\")\n",
        "    print(f\"您猜了:{count}次\")\n",
        "    break\n",
        "  elif(input_number>random_number):\n",
        "    print(\"再小一點\")\n",
        "    max = input_number - 1\n",
        "  elif(input_number<random_number):\n",
        "    print(\"再大一點\")\n",
        "    min = input_number + 1\n",
        "\n",
        "  print(f\"您已經清了:{count}次\\n\")\n",
        "\n",
        "print(\"Game Over\")"
      ],
      "metadata": {
        "id": "eFeP5mdHP_cn",
        "outputId": "34607018-c220-449f-8040-0458b342199e",
        "colab": {
          "base_uri": "https://localhost:8080/"
        }
      },
      "execution_count": 63,
      "outputs": [
        {
          "output_type": "stream",
          "name": "stdout",
          "text": [
            "===========猜數字遊戲開始========\n",
            "\n",
            "\n",
            "請輸入數字(1~99):7\n",
            "再大一點\n",
            "您已經清了:1次\n",
            "\n",
            "請輸入數字(8~99):50\n",
            "再小一點\n",
            "您已經清了:2次\n",
            "\n",
            "請輸入數字(8~49):33\n",
            "再小一點\n",
            "您已經清了:3次\n",
            "\n",
            "請輸入數字(8~32):24\n",
            "再小一點\n",
            "您已經清了:4次\n",
            "\n",
            "請輸入數字(8~23):15\n",
            "再大一點\n",
            "您已經清了:5次\n",
            "\n",
            "請輸入數字(16~23):20\n",
            "再小一點\n",
            "您已經清了:6次\n",
            "\n",
            "請輸入數字(16~19):17\n",
            "賓果!猜對了，答案是:{input_number}\n",
            "您猜了:7次\n",
            "Game Over\n"
          ]
        }
      ]
    }
  ]
}