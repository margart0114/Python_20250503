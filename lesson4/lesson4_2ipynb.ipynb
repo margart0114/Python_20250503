{
  "nbformat": 4,
  "nbformat_minor": 0,
  "metadata": {
    "colab": {
      "provenance": [],
      "authorship_tag": "ABX9TyMOKR/bo0I0mUnpRDDkw1NR",
      "include_colab_link": true
    },
    "kernelspec": {
      "name": "python3",
      "display_name": "Python 3"
    },
    "language_info": {
      "name": "python"
    }
  },
  "cells": [
    {
      "cell_type": "markdown",
      "metadata": {
        "id": "view-in-github",
        "colab_type": "text"
      },
      "source": [
        "<a href=\"https://colab.research.google.com/github/margart0114/Python_20250503/blob/main/lesson4/lesson4_2ipynb.ipynb\" target=\"_parent\"><img src=\"https://colab.research.google.com/assets/colab-badge.svg\" alt=\"Open In Colab\"/></a>"
      ]
    },
    {
      "cell_type": "markdown",
      "source": [
        "#python while迴圈說明\n",
        "---\n",
        "Python 中的 while 迴圈 是一種根據條件判斷來決定是否重複執行程式碼區塊的迴圈結構。當條件為 True 時，迴圈內的程式碼會持續執行；當條件變為 False 時，迴圈停止\n",
        "\n",
        "\n",
        "## **for...in...**\n",
        "- 明確知道執行的次數\n",
        "\n",
        "## **while**\n",
        "- 不知道執行的次數\n",
        "- ex: 我叫一個學生去操場跑步，直到下雨為止 (但不知道執行幾次)\n",
        "- ex: 玩遊戲，不知道使用者game over後會玩幾次, 此時用while迴圈\n",
        "- 用while迴圈的3步驟\n",
        "\n",
        "  - 主程式區塊: 使用在while迴圈的條件式內(一定要建立一個控while迴圈執行正與否的變數)\n",
        "  - 比較運算子\n",
        "  - 改變變數的值 (如果沒有做第3步，就會變成無限迴圈)\n",
        "- break: 直接跳出迴圈\n",
        "- continue:底下不要執行，請跳到下一個迴圈\n"
      ],
      "metadata": {
        "id": "XbFcFJ448bx3"
      }
    },
    {
      "cell_type": "code",
      "execution_count": null,
      "metadata": {
        "id": "Vaio-mnU8OC9",
        "outputId": "10a8ccb2-7351-45d3-c820-911598abacef",
        "colab": {
          "base_uri": "https://localhost:8080/"
        }
      },
      "outputs": [
        {
          "output_type": "stream",
          "name": "stdout",
          "text": [
            "1\n",
            "2\n",
            "3\n",
            "4\n",
            "5\n"
          ]
        }
      ],
      "source": [
        "count = 1\n",
        "while count <=5:\n",
        "  print(count)\n",
        "  count += 1"
      ]
    },
    {
      "cell_type": "code",
      "source": [
        "total = 0\n",
        "while True:\n",
        "  num = int (input(\"請輸入一個數字(輸入0結束:)\"))\n",
        "  if num == 0:\n",
        "    break\n",
        "  total += num\n",
        "print(\"總和:\",total)"
      ],
      "metadata": {
        "id": "JqycYsKy_w2q",
        "outputId": "9cc4708a-1b03-43b9-cbbf-6c786a4d091e",
        "colab": {
          "base_uri": "https://localhost:8080/"
        }
      },
      "execution_count": null,
      "outputs": [
        {
          "output_type": "stream",
          "name": "stdout",
          "text": [
            "請輸入一個數字(輸入0結束:)8\n",
            "請輸入一個數字(輸入0結束:)9\n",
            "請輸入一個數字(輸入0結束:)010\n",
            "請輸入一個數字(輸入0結束:)229\n",
            "請輸入一個數字(輸入0結束:)0\n",
            "總和: 256\n"
          ]
        }
      ]
    },
    {
      "cell_type": "code",
      "source": [
        "total = 0\n",
        "while False:\n",
        "  num = int (print(\"請輸入一個數字(輸入0結束:\"))\n",
        "  if num == 0:\n",
        "    break\n",
        "  total += num\n",
        "print (\"總和:\",total)"
      ],
      "metadata": {
        "id": "N8U80KqiCBWV",
        "outputId": "5419474b-5175-47a9-cea7-66863addfb11",
        "colab": {
          "base_uri": "https://localhost:8080/"
        }
      },
      "execution_count": null,
      "outputs": [
        {
          "output_type": "stream",
          "name": "stdout",
          "text": [
            "總和: 0\n"
          ]
        }
      ]
    },
    {
      "cell_type": "markdown",
      "source": [
        "# **Python主要學習的大項目**\n",
        "\n",
        "- 數學運算\n",
        "- 流程控制\n",
        "- 資料結構(list,dict,set,tuple)\n",
        "\n",
        " - 內建函式(function)\n",
        " - 內建工具箱(math)\n",
        " - 內建工具箱(random)\n",
        "\n"
      ],
      "metadata": {
        "id": "il6HZByrGPVA"
      }
    },
    {
      "cell_type": "markdown",
      "source": [
        "## python 取得亂數1~100\n",
        "-random.randint(a,b)\n"
      ],
      "metadata": {
        "id": "bAiEdbZ6H4Rm"
      }
    },
    {
      "cell_type": "code",
      "source": [
        "import random\n",
        "min = 1\n",
        "max = 99\n",
        "count = 0\n",
        "random_number = random.randint(min,max)\n",
        "#print(random_number)\n",
        "print(\"==========猜數字遊戲開始==========\\n\\n\")\n",
        "while(True):\n",
        "  input_number=int(input(f\"請輸入數字({min}~{max}):\"))\n",
        "  count += 1\n",
        "  if (input_number==random_number):\n",
        "    print(\"賓果!猜對了，答案是:{input_number}\")\n",
        "    print(f\"您猜了:{count}次\")\n",
        "    break\n",
        "  elif(input_number>random_number):\n",
        "    print(f\"再小一點\")\n",
        "    max = input_number - 1\n",
        "  elif(input_number<random_number):\n",
        "    print(f\"再大一點\")\n",
        "    min = input_number + 1\n",
        "\n",
        "    print(f\"您已經猜了:{count}次\\n\")\n",
        "\n",
        "print(\"Game Over\")"
      ],
      "metadata": {
        "id": "mKQr8splIXSu",
        "outputId": "9d357be9-6ef7-4f5f-eab6-de9462166326",
        "colab": {
          "base_uri": "https://localhost:8080/"
        }
      },
      "execution_count": 58,
      "outputs": [
        {
          "output_type": "stream",
          "name": "stdout",
          "text": [
            "==========猜數字遊戲開始==========\n",
            "\n",
            "\n",
            "請輸入數字(1~99):99\n",
            "再小一點\n",
            "請輸入數字(1~98):76\n",
            "再小一點\n",
            "請輸入數字(1~75):56\n",
            "再小一點\n",
            "請輸入數字(1~55):44\n",
            "再小一點\n",
            "請輸入數字(1~43):24\n",
            "再小一點\n",
            "請輸入數字(1~23):10\n",
            "再小一點\n",
            "請輸入數字(1~9):4\n",
            "再大一點\n",
            "您已經猜了:7次\n",
            "\n",
            "請輸入數字(5~9):8\n",
            "再小一點\n",
            "請輸入數字(5~7):7\n",
            "再小一點\n",
            "請輸入數字(5~6):5\n",
            "賓果!猜對了，答案是:{input_number}\n",
            "您猜了:10次\n",
            "Game Over\n"
          ]
        }
      ]
    },
    {
      "cell_type": "code",
      "source": [
        "orange = 3\n",
        "apple = 5\n",
        "\"你有orange\" + str(orange) +\"個，apple\" + str (apple) +\"個\""
      ],
      "metadata": {
        "id": "xzgOGpY6J2l1",
        "outputId": "9ed2f9fc-a7d0-427e-9ed8-164bbd47c3ed",
        "colab": {
          "base_uri": "https://localhost:8080/",
          "height": 35
        }
      },
      "execution_count": 45,
      "outputs": [
        {
          "output_type": "execute_result",
          "data": {
            "text/plain": [
              "'你有orange3個，apple5個'"
            ],
            "application/vnd.google.colaboratory.intrinsic+json": {
              "type": "string"
            }
          },
          "metadata": {},
          "execution_count": 45
        }
      ]
    },
    {
      "cell_type": "code",
      "source": [
        "orange = 3\n",
        "apple = 5\n",
        "f\"你有orange{orange}個，apple{apple}個\""
      ],
      "metadata": {
        "id": "5pc2EmA_KuA0",
        "outputId": "11dc0757-9871-4f38-f6f7-c016148cb80a",
        "colab": {
          "base_uri": "https://localhost:8080/",
          "height": 35
        }
      },
      "execution_count": 47,
      "outputs": [
        {
          "output_type": "execute_result",
          "data": {
            "text/plain": [
              "'你有orange3個，apple5個'"
            ],
            "application/vnd.google.colaboratory.intrinsic+json": {
              "type": "string"
            }
          },
          "metadata": {},
          "execution_count": 47
        }
      ]
    }
  ]
}