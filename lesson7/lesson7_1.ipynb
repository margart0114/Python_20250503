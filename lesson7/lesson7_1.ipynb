{
 "cells": [
  {
   "cell_type": "code",
   "execution_count": null,
   "id": "83cff63b",
   "metadata": {},
   "outputs": [
    {
     "ename": "SyntaxError",
     "evalue": "expected ':' (3164888967.py, line 15)",
     "output_type": "error",
     "traceback": [
      "\u001b[1;36m  Cell \u001b[1;32mIn[4], line 15\u001b[1;36m\u001b[0m\n\u001b[1;33m    else\u001b[0m\n\u001b[1;37m         ^\u001b[0m\n\u001b[1;31mSyntaxError\u001b[0m\u001b[1;31m:\u001b[0m expected ':'\n"
     ]
    }
   ],
   "source": [
    "def caculate_bmi(height:int, weight:int)->float:\n",
    "   return  weight / (height /100) ** 2\n",
    "\n",
    "def get_state(bmi:float) ->str:\n",
    "   if bmi < 18.5:\n",
    "      return \"體重過輕\"\n",
    "   elif bmi < 24:\n",
    "      return \"正常範圍\"\n",
    "   elif bmi < 27:\n",
    "      return \"過重\"\n",
    "   elif bmi < 30:\n",
    "      return \"輕度肥胖\"\n",
    "   elif bmi < 35:\n",
    "      return \"中度肥胖\"\n",
    "   else\n",
    "    \n",
    "\n",
    "height: int = int (input(\"請輸入身高(cm):\"))\n",
    "weight: int = int (input(\"請輸入體重(kg):\"))\n",
    "\n",
    "bmi = caculate_bmi (height, weight)\n",
    "print(bmi)\n",
    "print(get_state(bmi))"
   ]
  }
 ],
 "metadata": {
  "kernelspec": {
   "display_name": "chihlee1",
   "language": "python",
   "name": "python3"
  },
  "language_info": {
   "codemirror_mode": {
    "name": "ipython",
    "version": 3
   },
   "file_extension": ".py",
   "mimetype": "text/x-python",
   "name": "python",
   "nbconvert_exporter": "python",
   "pygments_lexer": "ipython3",
   "version": "3.10.16"
  }
 },
 "nbformat": 4,
 "nbformat_minor": 5
}
