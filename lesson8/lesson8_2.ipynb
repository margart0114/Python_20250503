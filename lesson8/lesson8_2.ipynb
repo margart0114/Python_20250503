{
 "cells": [
  {
   "cell_type": "markdown",
   "id": "5631069e",
   "metadata": {},
   "source": [
    "### 如何呼叫function"
   ]
  },
  {
   "cell_type": "code",
   "execution_count": null,
   "id": "82563b14",
   "metadata": {
    "vscode": {
     "languageId": "plaintext"
    }
   },
   "outputs": [],
   "source": [
    "def menu(wine:str, entree:str, dessert:str)->None:\n",
    "    print(f\"前酒:{wine}\")\n",
    "    print(f\"主餐:{entree}\")\n",
    "    print(f\"甜點:{dessert}\")"
   ]
  },
  {
   "cell_type": "markdown",
   "id": "64f6c74d",
   "metadata": {},
   "source": [
    "### 引數值的呼叫\n",
    "- 要依照參數的順序"
   ]
  },
  {
   "cell_type": "code",
   "execution_count": null,
   "id": "7604534c",
   "metadata": {
    "vscode": {
     "languageId": "plaintext"
    }
   },
   "outputs": [],
   "source": [
    "menu (\"白酒\",\"牛排\",\"蛋糕\")"
   ]
  }
 ],
 "metadata": {
  "language_info": {
   "name": "python"
  }
 },
 "nbformat": 4,
 "nbformat_minor": 5
}
