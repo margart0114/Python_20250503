{
 "cells": [
  {
   "cell_type": "markdown",
   "id": "d9a8d8df",
   "metadata": {},
   "source": [
    "### 如何呼叫function"
   ]
  },
  {
   "cell_type": "code",
   "execution_count": null,
   "id": "95926949",
   "metadata": {},
   "outputs": [],
   "source": [
    "def menu(wine:str,entree:str,dessert:str)->None:\n",
    "    print(f\"前酒:{wine}\")\n",
    "    print(f\"主餐:{entree}\")\n",
    "    print(f\"甜點:{dessert}\")"
   ]
  },
  {
   "cell_type": "markdown",
   "id": "a7bf0bfe",
   "metadata": {},
   "source": [
    "### 引數值的呼叫\n",
    "- 要依照參數的順序"
   ]
  },
  {
   "cell_type": "code",
   "execution_count": null,
   "id": "ac7f800d",
   "metadata": {},
   "outputs": [],
   "source": [
    "menu(\"白酒\",\"牛排\",\"蛋糕\")"
   ]
  },
  {
   "cell_type": "markdown",
   "id": "7c3a14b8",
   "metadata": {},
   "source": [
    "### 引數名稱的呼叫\n",
    "- 可以不依照順序"
   ]
  },
  {
   "cell_type": "code",
   "execution_count": null,
   "id": "594369cb",
   "metadata": {},
   "outputs": [],
   "source": [
    "menu(entree='牛排',dessert='蛋糕',wine='白酒')"
   ]
  }
 ],
 "metadata": {
  "language_info": {
   "name": "python"
  }
 },
 "nbformat": 4,
 "nbformat_minor": 5
}
