{
 "cells": [
  {
   "cell_type": "markdown",
   "id": "ef449965",
   "metadata": {},
   "source": [
    "https://www.perplexity.ai/search/216f82f2-9e19-4f29-bb0e-bdbfb083b51b"
   ]
  },
  {
   "cell_type": "code",
   "execution_count": null,
   "id": "f2c662f6",
   "metadata": {
    "vscode": {
     "languageId": "plaintext"
    }
   },
   "outputs": [],
   "source": [
    "# 使用 with 語法開啟檔案，確保讀取完後自動關閉檔案\n",
    "with open(\"names.txt\", \"r\", encoding=\"utf-8\") as f:\n",
    "    content = f.read()  # 一次讀取全部內容，回傳字串\n",
    "    print(content)"
   ]
  }
 ],
 "metadata": {
  "language_info": {
   "name": "python"
  }
 },
 "nbformat": 4,
 "nbformat_minor": 5
}
